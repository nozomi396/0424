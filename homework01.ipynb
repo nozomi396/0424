{
 "cells": [
  {
   "cell_type": "code",
   "execution_count": 9,
   "metadata": {},
   "outputs": [
    {
     "name": "stdout",
     "output_type": "stream",
     "text": [
      "Please enter your score:103\n"
     ]
    }
   ],
   "source": [
    "score = input('Please enter your score:')"
   ]
  },
  {
   "cell_type": "code",
   "execution_count": 10,
   "metadata": {},
   "outputs": [
    {
     "name": "stdout",
     "output_type": "stream",
     "text": [
      "錯誤的score\n"
     ]
    }
   ],
   "source": [
    "score_int = int(score)\n",
    "if (score_int >= 80 and score_int <= 100) :\n",
    "    print('Great')\n",
    "elif (score_int < 80 and score >= 60 ) :\n",
    "    print('及格')\n",
    "elif (score_int < 60 and score >= 0) :\n",
    "    print('不及格')\n",
    "else :\n",
    "    print('錯誤的score')"
   ]
  },
  {
   "cell_type": "code",
   "execution_count": null,
   "metadata": {},
   "outputs": [],
   "source": []
  },
  {
   "cell_type": "code",
   "execution_count": null,
   "metadata": {},
   "outputs": [],
   "source": []
  }
 ],
 "metadata": {
  "kernelspec": {
   "display_name": "Python 3",
   "language": "python",
   "name": "python3"
  },
  "language_info": {
   "codemirror_mode": {
    "name": "ipython",
    "version": 3
   },
   "file_extension": ".py",
   "mimetype": "text/x-python",
   "name": "python",
   "nbconvert_exporter": "python",
   "pygments_lexer": "ipython3",
   "version": "3.7.1"
  }
 },
 "nbformat": 4,
 "nbformat_minor": 2
}
