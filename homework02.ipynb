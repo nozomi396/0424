{
 "cells": [
  {
   "cell_type": "code",
   "execution_count": 1,
   "metadata": {},
   "outputs": [
    {
     "name": "stdout",
     "output_type": "stream",
     "text": [
      "請輸入欲猜數字:10\n",
      "Wrong\n",
      "請輸入欲猜數字:9\n",
      "Wrong\n",
      "請輸入欲猜數字:20\n",
      "Wrong\n",
      "請輸入欲猜數字:fff\n",
      "請輸入阿拉伯數字\n",
      "請輸入欲猜數字:8\n",
      "Bingo\n"
     ]
    }
   ],
   "source": [
    "while True:\n",
    "    num = 8\n",
    "    input_num = input('請輸入欲猜數字:')\n",
    "    try:\n",
    "        input_num = int(input_num)\n",
    "    except ValueError:\n",
    "        print('請輸入阿拉伯數字')\n",
    "        continue\n",
    "    if (input_num == num) :\n",
    "        print('Bingo')\n",
    "        break\n",
    "    else :\n",
    "        print('Wrong')"
   ]
  },
  {
   "cell_type": "code",
   "execution_count": null,
   "metadata": {},
   "outputs": [],
   "source": []
  }
 ],
 "metadata": {
  "kernelspec": {
   "display_name": "Python 3",
   "language": "python",
   "name": "python3"
  },
  "language_info": {
   "codemirror_mode": {
    "name": "ipython",
    "version": 3
   },
   "file_extension": ".py",
   "mimetype": "text/x-python",
   "name": "python",
   "nbconvert_exporter": "python",
   "pygments_lexer": "ipython3",
   "version": "3.7.1"
  }
 },
 "nbformat": 4,
 "nbformat_minor": 2
}
